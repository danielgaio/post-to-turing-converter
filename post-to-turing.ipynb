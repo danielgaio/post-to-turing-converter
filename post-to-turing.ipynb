{
 "cells": [
  {
   "cell_type": "code",
   "execution_count": 2,
   "metadata": {},
   "outputs": [],
   "source": [
    "import csv\n",
    "gramatica = []"
   ]
  },
  {
   "cell_type": "code",
   "execution_count": 3,
   "metadata": {},
   "outputs": [],
   "source": [
    "with open('palindromos.csv', newline='') as csvfile:\n",
    "    reader = csv.reader(csvfile, delimiter=',')\n",
    "    \n",
    "    contagem_linhas = 0\n",
    "    for line in reader:\n",
    "        gramatica.append(line)"
   ]
  },
  {
   "cell_type": "markdown",
   "metadata": {},
   "source": [
    "alfabeto\n",
    "numero de estados\n",
    "d=[estado atual, operacao, simbolo lido ou escrito, proximo estado]"
   ]
  },
  {
   "cell_type": "code",
   "execution_count": 4,
   "metadata": {
    "scrolled": false
   },
   "outputs": [
    {
     "name": "stdout",
     "output_type": "stream",
     "text": [
      "['U ', ' 0', ' 1', ' #']\n",
      "['19 ']\n",
      "['0', ' E', ' #', ' 1']\n",
      "['1', ' L', ' 0', ' 2 ']\n",
      "['1', ' L', ' 1', ' 10 ']\n",
      "['2', ' L', ' 0', ' 3 ']\n",
      "['2', ' L', ' 1', ' 4']\n",
      "['2', ' L ', ' #', ' A']\n",
      "['3', ' L', ' 0', ' 5']\n",
      "['3', ' L', ' 1', ' 6']\n",
      "['3', ' L', ' #', ' 7']\n",
      "['4', ' L', ' 0', ' 8']\n",
      "['4', ' L', ' 1', ' 9']\n",
      "['4', ' L', ' #', ' R']\n",
      "['a', ' D', ' U ', ' A']\n",
      "['5', ' E', ' 0 ', ' 3 ']\n",
      "['6', ' E', ' 0', ' 4 ']\n",
      "['7', ' E', ' #', ' 1 ']\n",
      "['8', ' E', ' 1', ' 3']\n",
      "['9', ' E', ' 1', ' 4']\n",
      "['R', ' D', ' U ', ' R']\n",
      "['10', ' L', ' 0', ' 11']\n",
      "['10', ' L', ' 1', ' 12']\n",
      "['10', ' L', ' #', ' 13']\n",
      "['11', ' L', ' 0', ' 14']\n",
      "['11', ' L', ' 1', ' 15']\n",
      "['11', ' L', ' #', ' R']\n",
      "['12', ' L', ' 0', ' 16']\n",
      "['12', ' L', ' 1', ' 17']\n",
      "['12', ' L', ' #', ' A']\n",
      "['13', ' E', ' #', ' 1']\n",
      "['14', ' E', ' 0', ' 11']\n",
      "['15', ' E', ' 0', ' 12']\n",
      "['16', ' E', ' 1', ' 11']\n",
      "['17', ' E', ' X', ' 10']\n",
      "['A', ' D', ' U ', ' A']\n"
     ]
    }
   ],
   "source": [
    "    for i in gramatica:\n",
    "        print(i)"
   ]
  },
  {
   "cell_type": "code",
   "execution_count": 5,
   "metadata": {
    "scrolled": true
   },
   "outputs": [
    {
     "name": "stdout",
     "output_type": "stream",
     "text": [
      "Tamanho do alfabeto = 4\n",
      "Número de símbolos da máquina de turing =  2\n"
     ]
    }
   ],
   "source": [
    "#Transformando o alfabeto da máquina de postem um alfabeto da máquina de turing\n",
    "\n",
    "import math\n",
    "\n",
    "tamanho_Alfabeto = len(gramatica[0])\n",
    "\n",
    "print(\"Tamanho do alfabeto =\", tamanho_Alfabeto)\n",
    "\n",
    "qnt_SimbTuring =round(math.log(tamanho_Alfabeto, 2) + 0.5)\n",
    "\n",
    "print(\"Número de símbolos da máquina de turing = \",qnt_SimbTuring)\n",
    "\n",
    "alfabeto_Turing = []\n",
    "\n",
    "marcador_inicial = \"a\"\n",
    "\n",
    "for i in range(0, tamanho_Alfabeto):\n",
    "    alfabeto_Turing.append(marcador_inicial + bin(i)[2:].zfill(qnt_SimbTuring))\n",
    "   \n"
   ]
  },
  {
   "cell_type": "code",
   "execution_count": 6,
   "metadata": {
    "scrolled": true
   },
   "outputs": [
    {
     "name": "stdout",
     "output_type": "stream",
     "text": [
      "a00\n",
      "a01\n",
      "a10\n",
      "a11\n"
     ]
    }
   ],
   "source": [
    "for i in alfabeto_Turing:\n",
    "    print(i)"
   ]
  },
  {
   "cell_type": "code",
   "execution_count": 20,
   "metadata": {},
   "outputs": [
    {
     "name": "stdout",
     "output_type": "stream",
     "text": [
      "Número de estados = 19\n",
      "Número de simbolos para os estados da máquina de turing =  5\n"
     ]
    }
   ],
   "source": [
    "estado = int(gramatica[1][0])\n",
    "\n",
    "print(\"Número de estados =\", estado)\n",
    "\n",
    "qnt_Simbestados = round(math.log(int(estado), 2) + 0.5)\n",
    "\n",
    "print(\"Número de simbolos para os estados da máquina de turing = \",qnt_Simbestados)\n",
    "\n",
    "estados_Turing = []\n",
    "\n",
    "marcador_inicialEstados = \"q\"\n",
    "\n",
    "for i in range(0, estado):\n",
    "    estados_Turing.append(marcador_inicialEstados + bin(i)[2:].zfill(qnt_Simbestados))\n",
    "        \n",
    "#Estou criando um estado de escrita no final da fita da máquina de turing\n",
    "estados_Turing.append(marcador_inicialEstados + bin(i+1)[2:].zfill(qnt_Simbestados))"
   ]
  },
  {
   "cell_type": "code",
   "execution_count": 21,
   "metadata": {
    "scrolled": true
   },
   "outputs": [
    {
     "name": "stdout",
     "output_type": "stream",
     "text": [
      "q00000\n",
      "q00001\n",
      "q00010\n",
      "q00011\n",
      "q00100\n",
      "q00101\n",
      "q00110\n",
      "q00111\n",
      "q01000\n",
      "q01001\n",
      "q01010\n",
      "q01011\n",
      "q01100\n",
      "q01101\n",
      "q01110\n",
      "q01111\n",
      "q10000\n",
      "q10001\n",
      "q10010\n",
      "q10011\n"
     ]
    }
   ],
   "source": [
    "for i in estados_Turing:\n",
    "    print(i)"
   ]
  },
  {
   "cell_type": "markdown",
   "metadata": {},
   "source": [
    "Máquina de post = [estado atual, operação, símbolo lido/escrito, próximo estado]"
   ]
  },
  {
   "cell_type": "markdown",
   "metadata": {},
   "source": [
    "Máquina de turing = [estado atual, símbolo lido, próximo estado, símbolo escrito, movimento]"
   ]
  },
  {
   "cell_type": "markdown",
   "metadata": {},
   "source": [
    "Se possuo um estado de leitura, eu apago esse elemento colocando um branco\n",
    "Quando o estado é de escrita, eu leio aquele símbolo e vou para um estado de escrita no final\n",
    "* Transforma em binário o estado, procura ele na lista de estados, escreve no arquivo"
   ]
  },
  {
   "cell_type": "code",
   "execution_count": 12,
   "metadata": {
    "scrolled": true
   },
   "outputs": [],
   "source": [
    "arquivo = open('MaqTuring.txt', 'w')\n",
    "\n",
    "arquivo.close()"
   ]
  },
  {
   "cell_type": "code",
   "execution_count": null,
   "metadata": {},
   "outputs": [],
   "source": []
  }
 ],
 "metadata": {
  "kernelspec": {
   "display_name": "Python 3",
   "language": "python",
   "name": "python3"
  },
  "language_info": {
   "codemirror_mode": {
    "name": "ipython",
    "version": 3
   },
   "file_extension": ".py",
   "mimetype": "text/x-python",
   "name": "python",
   "nbconvert_exporter": "python",
   "pygments_lexer": "ipython3",
   "version": "3.7.3"
  }
 },
 "nbformat": 4,
 "nbformat_minor": 2
}
