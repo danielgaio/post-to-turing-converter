{
 "cells": [
  {
   "cell_type": "code",
   "execution_count": 1,
   "metadata": {},
   "outputs": [],
   "source": [
    "import csv\n",
    "gramatica = []"
   ]
  },
  {
   "cell_type": "code",
   "execution_count": 2,
   "metadata": {},
   "outputs": [
    {
     "name": "stdout",
     "output_type": "stream",
     "text": [
      "5\n"
     ]
    }
   ],
   "source": [
    "with open('palindromos.csv', newline='') as csvfile:\n",
    "    reader = csv.reader(csvfile, delimiter=',')\n",
    "    \n",
    "    contagem_linhas = 0\n",
    "    for line in reader:\n",
    "        gramatica.append(line)\n",
    "        contagem_linhas = contagem_linhas + 1\n",
    "\n",
    "    num_regras = 0\n",
    "    num_regras = contagem_linhas - 2 #remove 2 pois quero retirar a declaração do simbolo inicial e o alfabeto. Quero apenas regras\n",
    "    print(num_regras)"
   ]
  },
  {
   "cell_type": "code",
   "execution_count": 3,
   "metadata": {
    "scrolled": true
   },
   "outputs": [
    {
     "name": "stdout",
     "output_type": "stream",
     "text": [
      "['S']\n",
      "['0', '1']\n",
      "['S', 'E']\n",
      "['S', '0']\n",
      "['S', '1']\n",
      "['S', '0S0']\n",
      "['S', '1S1']\n"
     ]
    }
   ],
   "source": [
    "print(gramatica[0])\n",
    "print(gramatica[1])\n",
    "print(gramatica[2])\n",
    "print(gramatica[3])\n",
    "print(gramatica[4])\n",
    "print(gramatica[5])\n",
    "print(gramatica[6])"
   ]
  },
  {
   "cell_type": "code",
   "execution_count": 4,
   "metadata": {
    "scrolled": false
   },
   "outputs": [
    {
     "name": "stdout",
     "output_type": "stream",
     "text": [
      "Digite a palavra a ser testada:0000\n",
      "0000\n"
     ]
    }
   ],
   "source": [
    "entrada = input(\"Digite a palavra a ser testada:\")\n",
    "print(entrada)"
   ]
  },
  {
   "cell_type": "code",
   "execution_count": 5,
   "metadata": {
    "scrolled": true
   },
   "outputs": [
    {
     "name": "stdout",
     "output_type": "stream",
     "text": [
      "['0', '0', '0', '0', '#']\n"
     ]
    }
   ],
   "source": [
    "fila = []\n",
    "marcador = \"#\"\n",
    "\n",
    "for caracter in entrada:\n",
    "    fila.append(caracter) #insere elemento no final da fila\n",
    "\n",
    "fila.append(marcador)\n",
    "print(fila)\n"
   ]
  },
  {
   "cell_type": "code",
   "execution_count": null,
   "metadata": {},
   "outputs": [],
   "source": [
    "!pip uninstall igraph"
   ]
  },
  {
   "cell_type": "markdown",
   "metadata": {},
   "source": [
    "Uma das regras de utilização do programa é que é necessário colocar a palavra vazia caso a palavra seja uma vazia\n"
   ]
  },
  {
   "cell_type": "code",
   "execution_count": null,
   "metadata": {},
   "outputs": [],
   "source": []
  }
 ],
 "metadata": {
  "kernelspec": {
   "display_name": "Python 3",
   "language": "python",
   "name": "python3"
  },
  "language_info": {
   "codemirror_mode": {
    "name": "ipython",
    "version": 3
   },
   "file_extension": ".py",
   "mimetype": "text/x-python",
   "name": "python",
   "nbconvert_exporter": "python",
   "pygments_lexer": "ipython3",
   "version": "3.7.3"
  }
 },
 "nbformat": 4,
 "nbformat_minor": 2
}
