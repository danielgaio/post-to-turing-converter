{
 "cells": [
  {
   "cell_type": "code",
   "execution_count": 29,
   "metadata": {},
   "outputs": [],
   "source": [
    "import csv\n",
    "gramatica = []"
   ]
  },
  {
   "cell_type": "code",
   "execution_count": 30,
   "metadata": {},
   "outputs": [],
   "source": [
    "with open('palindromos.csv', newline='') as csvfile:\n",
    "    reader = csv.reader(csvfile, delimiter=',')\n",
    "    \n",
    "    contagem_linhas = 0\n",
    "    for line in reader:\n",
    "        gramatica.append(line)\n",
    "        contagem_linhas = contagem_linhas + 1"
   ]
  },
  {
   "cell_type": "code",
   "execution_count": 31,
   "metadata": {},
   "outputs": [
    {
     "name": "stdout",
     "output_type": "stream",
     "text": "['4']\n['U', '0', '1', '#']\n['19 ']\n['0', 'E', '#', '1']\n['1', 'L', '0', '2 ']\n['1', 'L', '1', '10 ']\n['2', 'L', '0', '3 ']\n['2', 'L', '1', '4']\n['2', 'L', '#', '18']\n['3', 'L', '0', '5']\n['3', 'L', '1', '6']\n['3', 'L', '#', '7']\n['4', 'L', '0', '8']\n['4', 'L', '1', '9']\n['4', 'L', '#', '19']\n['18', 'D', 'U', '18']\n['5', 'E', '0', '3 ']\n['6', 'E', '0', '4 ']\n['7', 'E', '#', '1 ']\n['8', 'E', '1', '3']\n['9', 'E', '1', '4']\n['19', 'D', 'U', '19']\n['10', 'L', '0', '11']\n['10', 'L', '1', '12']\n['10', 'L', '#', '13']\n['11', 'L', '0', '14']\n['11', 'L', '1', '15']\n['11', 'L', '#', '19']\n['12', 'L', '0', '16']\n['12', 'L', '1', '17']\n['12', 'L', '#', '18']\n['13', 'E', '#', '1']\n['14', 'E', '0', '11']\n['15', 'E', '0', '12']\n['16', 'E', '1', '11']\n['17', 'E', 'X', '10']\n['18', 'D', 'U', '18']\n"
    }
   ],
   "source": [
    "    # Exibição da descrição da Maquina de Post lida\n",
    "    for i in gramatica:\n",
    "        print(i)"
   ]
  },
  {
   "cell_type": "code",
   "execution_count": 32,
   "metadata": {},
   "outputs": [],
   "source": [
    "import math\n",
    "\n",
    "#Recebe algum simbolo do alfabeto da máquina de post e transforma no símbolo da máquina de turing\n",
    "def transforma_simbolo(simbolo):\n",
    "    \n",
    "    tamanho_Alfabeto = len(gramatica[1])\n",
    "\n",
    "    # print(\"Tamanho do alfabeto =\", tamanho_Alfabeto)\n",
    "\n",
    "    qnt_SimbTuring = round(math.log(tamanho_Alfabeto, 2) + 0.5)\n",
    "\n",
    "    # print(\"Número de símbolos da máquina de turing = \", qnt_SimbTuring)\n",
    "\n",
    "\n",
    "    marcador_inicial = \"a\"\n",
    "\n",
    "    simbolo_transformado = marcador_inicial + bin(simbolo)[2:].zfill(qnt_SimbTuring)  \n",
    "\n",
    "    return simbolo_transformado\n"
   ]
  },
  {
   "cell_type": "code",
   "execution_count": 33,
   "metadata": {},
   "outputs": [],
   "source": [
    "def transforma_estado(estado):\n",
    "\n",
    "    num_estado = int(gramatica[2][0])\n",
    "\n",
    "    # print(\"Número de estados =\", num_estado)\n",
    "\n",
    "    qnt_Simbestados = round(math.log(int(num_estado), 2) + 0.5)\n",
    "\n",
    "    #print(\"Número de simbolos para os estados da máquina de turing = \",qnt_Simbestados)\n",
    "\n",
    "    marcador_inicialEstados = \"q\"\n",
    "        \n",
    "    #Estou criando um estado de escrita no final da fita da máquina de turing\n",
    "    estado_transformado = marcador_inicialEstados + bin(estado)[2:].zfill(qnt_Simbestados)\n",
    "    \n",
    "    return estado_transformado\n",
    "    "
   ]
  },
  {
   "cell_type": "markdown",
   "metadata": {},
   "source": [
    "Máquina de post = [estado atual, operação, símbolo lido/escrito, próximo estado]"
   ]
  },
  {
   "cell_type": "markdown",
   "metadata": {},
   "source": [
    "Máquina de turing = [estado atual, símbolo lido, próximo estado, símbolo escrito, movimento]"
   ]
  },
  {
   "cell_type": "markdown",
   "metadata": {},
   "source": [
    "Observações: \n",
    "1) Acrescenta mais um estado: escrever algum símbolo no final da fita e rebobina \n",
    "\n",
    "Se possuo um estado de leitura, eu apago esse elemento colocando um branco\n",
    "Quando o estado é de escrita, eu leio aquele símbolo e vou para um estado de escrita no final\n",
    "* Transforma em binário o estado, procura ele na lista de estados, escreve no arquivo"
   ]
  },
  {
   "cell_type": "code",
   "execution_count": 34,
   "metadata": {},
   "outputs": [],
   "source": [
    "linha = 0\n",
    "\n",
    "maquina_turing = []\n",
    "\n",
    "contador1 = 0\n",
    "contador2 = 0\n",
    "contador3 = 0\n",
    "contador4 = 0\n",
    "contador5 = 0\n",
    "\n",
    "alfabeto = []\n",
    "\n",
    "numero_simbolos = int(gramatica[0][0])\n",
    "\n",
    "for i in range(0, numero_simbolos):\n",
    "    alfabeto.append(gramatica[1][i])\n",
    "    \n",
    "for elemento in gramatica:\n",
    "    if(linha > 2):\n",
    "        #LEITURA\n",
    "        if('L' in elemento[1]):\n",
    "            #Faz tradução do estado atual, proximo estado, simbolo lido, simbolo escrito\n",
    "            estado_atual = transforma_estado(int(elemento[0]))\n",
    "            #print(estado_atual)\n",
    "            proximo_estado = transforma_estado(int(elemento[3]))\n",
    "            #print(proximo_estado)\n",
    "\n",
    "            for simbolo in alfabeto:\n",
    "                if(simbolo == elemento[2]):\n",
    "                    simbolo_lido = transforma_simbolo(contador1)\n",
    "                    #print(simbolo_lido)\n",
    "                else:\n",
    "                    contador1 = contador1 + 1\n",
    "\n",
    "            for simbolo in alfabeto:\n",
    "                if(simbolo == 'U'):\n",
    "                    simbolo_escrito = transforma_simbolo(contador2)\n",
    "                    #print(simbolo_escrito)\n",
    "                else:\n",
    "                    contador2 = contador2 + 1\n",
    "\n",
    "            contador1 = 0\n",
    "            contador2 = 0\n",
    "            maquina_turing.append(estado_atual + ', ' + simbolo_lido + ', ' +  proximo_estado + ', ' +  simbolo_escrito + ', ' +  'd')\n",
    "\n",
    "        #ESCRITA\n",
    "        elif ('E' in elemento[1]):\n",
    "            #Faz tradução do estado atual, proximo estado, simbolo lido, simbolo escrito\n",
    "            estado_atual = transforma_estado(int(elemento[0]))\n",
    "            #print(estado_atual)\n",
    "            proximo_estado = transforma_estado(int(elemento[3]))\n",
    "            #print(proximo_estado)\n",
    "\n",
    "            for simbolo in alfabeto:\n",
    "                if(simbolo == elemento[2]):\n",
    "                    simbolo_escrito = transforma_simbolo(contador3)\n",
    "                   # print(simbolo_escrito)\n",
    "                else:\n",
    "                    contador3 = contador3 + 1\n",
    "            contador3 = 0\n",
    "        \n",
    "            # prox_est2 é o estado de escrita no final da fila\n",
    "            proximo_estado2 = transforma_estado(int(gramatica[2][0]))\n",
    "        \n",
    "            for simbolo in alfabeto:\n",
    "                for s in alfabeto:\n",
    "                    if(s == simbolo):\n",
    "                        simbolo_lido = transforma_simbolo(contador4)\n",
    "                    else:\n",
    "                        contador4 = contador4 + 1\n",
    "\n",
    "                contador4 = 0\n",
    "        \n",
    "                # se ler branco, então vai para prox_est2, fazer escrita no fim da fila\n",
    "                if(simbolo == 'U'):\n",
    "                    maquina_turing.append(estado_atual + ', ' + simbolo_lido + ', ' +  proximo_estado2 + ', ' + simbolo_escrito + ', ' +  'd')\n",
    "                else:\n",
    "                    # para rebobinar a direita \n",
    "                    maquina_turing.append(estado_atual + ', ' + simbolo_lido + ', ' +  estado_atual + ', ' +  simbolo_lido + ', ' +  'd')\n",
    "                    \n",
    "            \n",
    "            for simbolo in alfabeto:\n",
    "                for s in alfabeto:\n",
    "                    if(s == simbolo):\n",
    "                        simbolo_lido = transforma_simbolo(contador4)\n",
    "                    else:\n",
    "                        contador4 = contador4 + 1\n",
    "\n",
    "                contador4 = 0\n",
    "\n",
    "                if(simbolo == 'U'):\n",
    "                    maquina_turing.append(proximo_estado2 + ', ' + simbolo_lido + ', ' +  proximo_estado + ', ' + simbolo_lido + ', ' +  'd')\n",
    "                else:\n",
    "                    # para rebobinar a esquerda\n",
    "                    maquina_turing.append(proximo_estado2 + ', ' + simbolo_lido + ', ' +  proximo_estado2 + ', ' +  simbolo_lido + ', ' +  'e')\n",
    "        \n",
    "        # DESVIO\n",
    "        else:\n",
    "            #Faz tradução do estado atual, proximo estado, simbolo lido, simbolo escrito\n",
    "            estado_atual = transforma_estado(int(elemento[0]))\n",
    "            #print(estado_atual)\n",
    "            proximo_estado = transforma_estado(int(elemento[3]))\n",
    "            #print(proximo_estado)\n",
    "        \n",
    "            for simbolo in alfabeto:\n",
    "                for s in alfabeto:\n",
    "                    if(s == simbolo):\n",
    "                        simbolo_lido = transforma_simbolo(contador5)\n",
    "                    else:\n",
    "                        contador5 = contador5 + 1\n",
    "\n",
    "                contador5 = 0\n",
    "                maquina_turing.append(estado_atual + ', ' + simbolo_lido + ', ' +  proximo_estado + ', ' +  simbolo_lido + ', ' +  'f')\n",
    "              \n",
    "    else:\n",
    "        linha = linha + 1\n"
   ]
  },
  {
   "cell_type": "code",
   "execution_count": 35,
   "metadata": {},
   "outputs": [],
   "source": [
    "# Gravação da maquina de turing traduzida para um aquivo txt\n",
    "\n",
    "arquivo = open('MaqTuring.txt', 'w')\n",
    "\n",
    "for i in maquina_turing:\n",
    "    arquivo.write(i+'\\n')\n",
    "\n",
    "arquivo.close()"
   ]
  },
  {
   "cell_type": "code",
   "execution_count": null,
   "metadata": {},
   "outputs": [],
   "source": []
  }
 ],
 "metadata": {
  "kernelspec": {
   "display_name": "Python 3",
   "language": "python",
   "name": "python3"
  },
  "language_info": {
   "codemirror_mode": {
    "name": "ipython",
    "version": 3
   },
   "file_extension": ".py",
   "mimetype": "text/x-python",
   "name": "python",
   "nbconvert_exporter": "python",
   "pygments_lexer": "ipython3",
   "version": "3.7.3"
  }
 },
 "nbformat": 4,
 "nbformat_minor": 2
}