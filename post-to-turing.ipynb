{
 "cells": [
  {
   "cell_type": "code",
   "execution_count": 53,
   "metadata": {},
   "outputs": [],
   "source": [
    "import csv\n",
    "gramatica = []"
   ]
  },
  {
   "cell_type": "code",
   "execution_count": 54,
   "metadata": {},
   "outputs": [],
   "source": [
    "with open('palindromos.csv', newline='') as csvfile:\n",
    "    reader = csv.reader(csvfile, delimiter=',')\n",
    "    \n",
    "    contagem_linhas = 0\n",
    "    for line in reader:\n",
    "        gramatica.append(line)"
   ]
  },
  {
   "cell_type": "markdown",
   "metadata": {},
   "source": [
    "alfabeto\n",
    "numero de estados\n",
    "d=[estado atual, operacao, simbolo lido ou escrito, proximo estado]"
   ]
  },
  {
   "cell_type": "code",
   "execution_count": 55,
   "metadata": {
    "scrolled": true
   },
   "outputs": [
    {
     "name": "stdout",
     "output_type": "stream",
     "text": [
      "['U ', ' 0', ' 1', ' #']\n",
      "['19 ']\n",
      "['0', ' E', ' #', ' 1']\n",
      "['1', ' L', ' 0', ' 2 ']\n",
      "['1', ' L', ' 1', ' 10 ']\n",
      "['2', ' L', ' 0', ' 3 ']\n",
      "['2', ' L', ' 1', ' 4']\n",
      "['2', ' L ', ' #', ' A']\n",
      "['3', ' L', ' 0', ' 5']\n",
      "['3', ' L', ' 1', ' 6']\n",
      "['3', ' L', ' #', ' 7']\n",
      "['4', ' L', ' 0', ' 8']\n",
      "['4', ' L', ' 1', ' 9']\n",
      "['4', ' L', ' #', ' R']\n",
      "['a', ' D', ' U ', ' A']\n",
      "['5', ' E', ' 0 ', ' 3 ']\n",
      "['6', ' E', ' 0', ' 4 ']\n",
      "['7', ' E', ' #', ' 1 ']\n",
      "['8', ' E', ' 1', ' 3']\n",
      "['9', ' E', ' 1', ' 4']\n",
      "['R', ' D', ' U ', ' R']\n",
      "['10', ' L', ' 0', ' 11']\n",
      "['10', ' L', ' 1', ' 12']\n",
      "['10', ' L', ' #', ' 13']\n",
      "['11', ' L', ' 0', ' 14']\n",
      "['11', ' L', ' 1', ' 15']\n",
      "['11', ' L', ' #', ' R']\n",
      "['12', ' L', ' 0', ' 16']\n",
      "['12', ' L', ' 1', ' 17']\n",
      "['12', ' L', ' #', ' A']\n",
      "['13', ' E', ' #', ' 1']\n",
      "['14', ' E', ' 0', ' 11']\n",
      "['15', ' E', ' 0', ' 12']\n",
      "['16', ' E', ' 1', ' 11']\n",
      "['17', ' E', ' X', ' 10']\n",
      "['A', ' D', ' U ', ' A']\n"
     ]
    }
   ],
   "source": [
    "    for i in gramatica:\n",
    "        print(i)"
   ]
  },
  {
   "cell_type": "code",
   "execution_count": 118,
   "metadata": {
    "scrolled": true
   },
   "outputs": [
    {
     "name": "stdout",
     "output_type": "stream",
     "text": [
      "Tamanho do alfabeto = 4\n",
      "Número de símbolos da máquina de turing =  2\n"
     ]
    }
   ],
   "source": [
    "#Transformando o alfabeto da máquina de postem um alfabeto da máquina de turing\n",
    "\n",
    "import math\n",
    "\n",
    "tamanho_Alfabeto = len(gramatica[0])\n",
    "\n",
    "print(\"Tamanho do alfabeto =\", tamanho_Alfabeto)\n",
    "\n",
    "qnt_SimbTuring =round(math.log(tamanho_Alfabeto, 2) + 0.5)\n",
    "\n",
    "print(\"Número de símbolos da máquina de turing = \",qnt_SimbTuring)\n",
    "\n",
    "alfabeto_Turing = []\n",
    "\n",
    "marcador_inicial = \"a\"\n",
    "\n",
    "for i in range(0, tamanho_Alfabeto):\n",
    "    alfabeto_Turing.append(marcador_inicial + bin(i)[2:].zfill(qnt_SimbTuring))\n",
    "   \n"
   ]
  },
  {
   "cell_type": "code",
   "execution_count": 119,
   "metadata": {
    "scrolled": true
   },
   "outputs": [
    {
     "name": "stdout",
     "output_type": "stream",
     "text": [
      "a00\n",
      "a01\n",
      "a10\n",
      "a11\n"
     ]
    }
   ],
   "source": [
    "for i in alfabeto_Turing:\n",
    "    print(i)"
   ]
  },
  {
   "cell_type": "code",
   "execution_count": 125,
   "metadata": {},
   "outputs": [
    {
     "name": "stdout",
     "output_type": "stream",
     "text": [
      "Número de estados = 19 \n",
      "Número de estados da máquina de turing =  5\n"
     ]
    },
    {
     "ename": "TypeError",
     "evalue": "'str' object cannot be interpreted as an integer",
     "output_type": "error",
     "traceback": [
      "\u001b[0;31m---------------------------------------------------------------------------\u001b[0m",
      "\u001b[0;31mTypeError\u001b[0m                                 Traceback (most recent call last)",
      "\u001b[0;32m<ipython-input-125-d3d345194b1d>\u001b[0m in \u001b[0;36m<module>\u001b[0;34m\u001b[0m\n\u001b[1;32m     11\u001b[0m \u001b[0mmarcador_inicialEstados\u001b[0m \u001b[0;34m=\u001b[0m \u001b[0;34m\"q\"\u001b[0m\u001b[0;34m\u001b[0m\u001b[0;34m\u001b[0m\u001b[0m\n\u001b[1;32m     12\u001b[0m \u001b[0;34m\u001b[0m\u001b[0m\n\u001b[0;32m---> 13\u001b[0;31m \u001b[0;32mfor\u001b[0m \u001b[0mi\u001b[0m \u001b[0;32min\u001b[0m \u001b[0mrange\u001b[0m\u001b[0;34m(\u001b[0m\u001b[0;36m0\u001b[0m\u001b[0;34m,\u001b[0m \u001b[0mestado\u001b[0m\u001b[0;34m)\u001b[0m\u001b[0;34m:\u001b[0m\u001b[0;34m\u001b[0m\u001b[0;34m\u001b[0m\u001b[0m\n\u001b[0m\u001b[1;32m     14\u001b[0m     \u001b[0mestados_Turing\u001b[0m\u001b[0;34m.\u001b[0m\u001b[0mappend\u001b[0m\u001b[0;34m(\u001b[0m\u001b[0mmarcador_inicialEstados\u001b[0m \u001b[0;34m+\u001b[0m \u001b[0mbin\u001b[0m\u001b[0;34m(\u001b[0m\u001b[0mi\u001b[0m\u001b[0;34m)\u001b[0m\u001b[0;34m[\u001b[0m\u001b[0;36m2\u001b[0m\u001b[0;34m:\u001b[0m\u001b[0;34m]\u001b[0m\u001b[0;34m.\u001b[0m\u001b[0mzfill\u001b[0m\u001b[0;34m(\u001b[0m\u001b[0mqnt_estados\u001b[0m\u001b[0;34m)\u001b[0m\u001b[0;34m)\u001b[0m\u001b[0;34m\u001b[0m\u001b[0;34m\u001b[0m\u001b[0m\n\u001b[1;32m     15\u001b[0m \u001b[0;34m\u001b[0m\u001b[0m\n",
      "\u001b[0;31mTypeError\u001b[0m: 'str' object cannot be interpreted as an integer"
     ]
    }
   ],
   "source": [
    "estado_l = gramatica[1][0]\n",
    "\n",
    "estad =\n",
    "\n",
    "print(\"Número de estados =\", estado)\n",
    "\n",
    "qnt_estados = round(math.log(int(estado), 2) + 0.5)\n",
    "\n",
    "print(\"Número de estados da máquina de turing = \",qnt_estados)\n",
    "\n",
    "estados_Turing = []\n",
    "\n",
    "marcador_inicialEstados = \"q\"\n",
    "\n",
    "for i in range(0, estado):\n",
    "    estados_Turing.append(marcador_inicialEstados + bin(i)[2:].zfill(qnt_estados))\n",
    "   "
   ]
  },
  {
   "cell_type": "code",
   "execution_count": null,
   "metadata": {},
   "outputs": [],
   "source": [
    "for i in estados_Turing:\n",
    "    print(i)"
   ]
  },
  {
   "cell_type": "code",
   "execution_count": null,
   "metadata": {},
   "outputs": [],
   "source": []
  }
 ],
 "metadata": {
  "kernelspec": {
   "display_name": "Python 3",
   "language": "python",
   "name": "python3"
  },
  "language_info": {
   "codemirror_mode": {
    "name": "ipython",
    "version": 3
   },
   "file_extension": ".py",
   "mimetype": "text/x-python",
   "name": "python",
   "nbconvert_exporter": "python",
   "pygments_lexer": "ipython3",
   "version": "3.6.8"
  }
 },
 "nbformat": 4,
 "nbformat_minor": 2
}
